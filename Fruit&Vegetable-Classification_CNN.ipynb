{
 "cells": [
  {
   "cell_type": "code",
   "execution_count": null,
   "metadata": {
    "_cell_guid": "b1076dfc-b9ad-4769-8c92-a6c4dae69d19",
    "_uuid": "8f2839f25d086af736a60e9eeb907d3b93b6e0e5",
    "execution": {
     "iopub.execute_input": "2021-06-19T06:31:45.723543Z",
     "iopub.status.busy": "2021-06-19T06:31:45.723229Z",
     "iopub.status.idle": "2021-06-19T06:31:51.00573Z",
     "shell.execute_reply": "2021-06-19T06:31:51.004839Z",
     "shell.execute_reply.started": "2021-06-19T06:31:45.723475Z"
    }
   },
   "outputs": [],
   "source": [
    "import os\n",
    "import shutil\n",
    "from PIL import Image\n",
    "import numpy as np\n",
    "import tensorflow as tf\n",
    "import keras\n",
    "from keras_preprocessing import image\n",
    "from keras.utils import np_utils\n",
    "from keras.models import Sequential\n",
    "from keras.layers import Conv2D,MaxPooling2D,Dense,Flatten,Dropout\n",
    "from tensorflow.keras.callbacks import EarlyStopping\n",
    "from cv2 import cv2\n",
    "import matplotlib.pyplot as plt\n",
    "from keras.layers.normalization.batch_normalization_v1 import BatchNormalization\n",
    "from tensorflow.keras.preprocessing.image import ImageDataGenerator, array_to_img, img_to_array, load_img"
   ]
  },
  {
   "cell_type": "code",
   "execution_count": null,
   "metadata": {},
   "outputs": [],
   "source": [
    "#load trained model\n",
    "model = keras.models.load_model('trianedmodel.h5')"
   ]
  },
  {
   "cell_type": "code",
   "execution_count": null,
   "metadata": {},
   "outputs": [],
   "source": [
    "#generate augmented image dataset\n",
    "#Only one run is required for a new data set.\n",
    "datagen=ImageDataGenerator(\n",
    "    rotation_range = 45,     # Random rotation degree\n",
    "    width_shift_range = 0.2, # Random horizontal translation\n",
    "    height_shift_range = 0.2,# Random vertical translation\n",
    "    rescale = 1/255,         # Data Normalization\n",
    "    shear_range = 20,       # Random tangent transformation\n",
    "    zoom_range = 0.4,        # Random zoom in\n",
    "    horizontal_flip = True,\n",
    "    vertical_flip = True,\n",
    "    fill_mode = 'nearest',\n",
    ")\n",
    "\n",
    "datapath = 'fruit-and-vegetable-image-recognition/train'\n",
    "    \n",
    "for lable in os.listdir(datapath):\n",
    "    lablepath = datapath+'/'+lable\n",
    " \n",
    "    if os.path.exists(lablepath+'/augmented') is False:      \n",
    "        os.makedirs(lablepath+'/augmented')\n",
    "        \n",
    "    for file in os.listdir(lablepath):\n",
    "        filepath = lablepath+'/'+file\n",
    "        if os.path.isfile(filepath):\n",
    "            img = load_img(filepath)\n",
    "            x = img_to_array(img)\n",
    "            x = x.reshape((1,) + x.shape)\n",
    "            i = 0\n",
    "            for batch in datagen.flow(x, batch_size=1,\n",
    "                                      save_to_dir=lablepath+'/augmented',\n",
    "                                      save_prefix='augmented',\n",
    "                                      save_format='jpg',\n",
    "                                      ignore_class_split = True):\n",
    "                i += 1\n",
    "                if i > 10:\n",
    "                    break\n",
    "\n",
    "for lable in os.listdir(datapath):\n",
    "    orifilepath = datapath+'/'+lable+'/augmented'\n",
    "    desfilepath = datapath+'/'+lable\n",
    "    get_files = os.listdir(orifilepath)\n",
    "    for file in get_files:\n",
    "        shutil.move(orifilepath + '/'+file, desfilepath)"
   ]
  },
  {
   "cell_type": "code",
   "execution_count": null,
   "metadata": {
    "execution": {
     "iopub.execute_input": "2021-06-19T06:31:51.009228Z",
     "iopub.status.busy": "2021-06-19T06:31:51.008974Z",
     "iopub.status.idle": "2021-06-19T06:31:53.599214Z",
     "shell.execute_reply": "2021-06-19T06:31:53.597747Z",
     "shell.execute_reply.started": "2021-06-19T06:31:51.009202Z"
    }
   },
   "outputs": [],
   "source": [
    "#Generates a tf.data.Dataset from augmented image files in a directory\n",
    "val_path=\"./fruit-and-vegetable-image-recognition/validation\"\n",
    "train_path=\"./fruit-and-vegetable-image-recognition/train\"\n",
    "\n",
    "train_dataset = tf.keras.preprocessing.image_dataset_from_directory(train_path,\n",
    "                                                               seed=317,\n",
    "                                                               image_size=(224, 224),\n",
    "                                                              batch_size=32)\n",
    "val_dataset = tf.keras.preprocessing.image_dataset_from_directory(val_path,\n",
    "                                                              seed=317,\n",
    "                                                              image_size=(224, 224),\n",
    "                                                              shuffle=False,\n",
    "                                                              batch_size=32)\n",
    "#show labels\n",
    "class_names = train_dataset.class_names\n",
    "print(\"Lables: \" + str(class_names))"
   ]
  },
  {
   "cell_type": "code",
   "execution_count": null,
   "metadata": {
    "execution": {
     "iopub.execute_input": "2021-06-19T06:31:53.60965Z",
     "iopub.status.busy": "2021-06-19T06:31:53.609249Z",
     "iopub.status.idle": "2021-06-19T06:31:53.764142Z",
     "shell.execute_reply": "2021-06-19T06:31:53.763406Z",
     "shell.execute_reply.started": "2021-06-19T06:31:53.609613Z"
    }
   },
   "outputs": [],
   "source": [
    "model = Sequential()\n",
    "model.add(Conv2D(filters=32, kernel_size = (5, 5), activation='relu', input_shape=(224,224,3)))\n",
    "model.add(MaxPooling2D(pool_size=(2,2)))\n",
    "model.add(BatchNormalization())\n",
    "model.add(Conv2D(filters=64, kernel_size=(3,3), activation='relu'))\n",
    "model.add(MaxPooling2D(pool_size=(2,2)))\n",
    "model.add(BatchNormalization())\n",
    "model.add(Conv2D(filters=128, kernel_size=(3,3), activation='relu'))\n",
    "model.add(MaxPooling2D(pool_size=(2,2)))\n",
    "model.add(BatchNormalization())\n",
    "model.add(Conv2D(filters=256, kernel_size=(3,3), activation='relu'))\n",
    "model.add(MaxPooling2D(pool_size=(2,2)))\n",
    "model.add(BatchNormalization())\n",
    "model.add(Conv2D(filters=512, kernel_size=(3,3), activation='relu'))\n",
    "model.add(MaxPooling2D(pool_size=(2,2)))\n",
    "model.add(BatchNormalization())\n",
    "model.add(Dropout(0.15))\n",
    "model.add(Flatten())\n",
    "model.add(Dense(64, activation='relu'))\n",
    "model.add(Dropout(0.3))\n",
    "model.add(Dense(len(class_names),activation='sigmoid'))"
   ]
  },
  {
   "cell_type": "code",
   "execution_count": null,
   "metadata": {
    "execution": {
     "iopub.execute_input": "2021-06-19T06:31:53.765646Z",
     "iopub.status.busy": "2021-06-19T06:31:53.765285Z",
     "iopub.status.idle": "2021-06-19T06:31:53.791802Z",
     "shell.execute_reply": "2021-06-19T06:31:53.791053Z",
     "shell.execute_reply.started": "2021-06-19T06:31:53.76561Z"
    }
   },
   "outputs": [],
   "source": [
    "model.compile(\n",
    "    optimizer = tf.keras.optimizers.Adamax(lr=0.001,decay=0.0),\n",
    "    loss = tf.keras.losses.SparseCategoricalCrossentropy(),   \n",
    "    metrics = [\"accuracy\"])"
   ]
  },
  {
   "cell_type": "code",
   "execution_count": null,
   "metadata": {
    "execution": {
     "iopub.execute_input": "2021-06-19T06:31:53.793279Z",
     "iopub.status.busy": "2021-06-19T06:31:53.792957Z",
     "iopub.status.idle": "2021-06-19T07:03:22.111472Z",
     "shell.execute_reply": "2021-06-19T07:03:22.110585Z",
     "shell.execute_reply.started": "2021-06-19T06:31:53.793247Z"
    }
   },
   "outputs": [],
   "source": [
    "history = model.fit(x=train_dataset,\n",
    "                    epochs= 30,\n",
    "                    validation_data=val_dataset)"
   ]
  },
  {
   "cell_type": "code",
   "execution_count": null,
   "metadata": {},
   "outputs": [],
   "source": [
    "model.save('trianedmodel.h5')"
   ]
  },
  {
   "cell_type": "code",
   "execution_count": null,
   "metadata": {
    "execution": {
     "iopub.execute_input": "2021-06-19T07:03:22.113895Z",
     "iopub.status.busy": "2021-06-19T07:03:22.113216Z",
     "iopub.status.idle": "2021-06-19T07:03:22.285826Z",
     "shell.execute_reply": "2021-06-19T07:03:22.284805Z",
     "shell.execute_reply.started": "2021-06-19T07:03:22.113854Z"
    }
   },
   "outputs": [],
   "source": [
    "plt.plot(history.history['val_loss'])\n",
    "plt.plot(history.history['loss'])\n",
    "plt.title(\"Model Loss\")\n",
    "plt.ylabel(\"Loss\")\n",
    "plt.xlabel('Time')\n",
    "plt.legend(['val_loss', 'loss'], loc='upper left')\n",
    "plt.show()"
   ]
  },
  {
   "cell_type": "code",
   "execution_count": null,
   "metadata": {
    "execution": {
     "iopub.execute_input": "2021-06-19T07:03:22.288818Z",
     "iopub.status.busy": "2021-06-19T07:03:22.288463Z",
     "iopub.status.idle": "2021-06-19T07:03:22.431313Z",
     "shell.execute_reply": "2021-06-19T07:03:22.430495Z",
     "shell.execute_reply.started": "2021-06-19T07:03:22.28878Z"
    }
   },
   "outputs": [],
   "source": [
    "plt.plot(history.history['val_accuracy'])\n",
    "plt.plot(history.history['accuracy'])\n",
    "plt.title(\"Model Accuracy\")\n",
    "plt.ylabel(\"Accuracy\")\n",
    "plt.xlabel('Time')\n",
    "plt.legend(['val_accuracy', 'acc'], loc='upper left')\n",
    "plt.show()"
   ]
  },
  {
   "cell_type": "code",
   "execution_count": null,
   "metadata": {},
   "outputs": [],
   "source": [
    "def test(image_path, model):\n",
    "    img = image.load_img(image_path, target_size=(224,224,3))\n",
    "    plt.imshow(img)\n",
    "    plt.show()\n",
    "    x = image.img_to_array(img)\n",
    "    x = np.expand_dims(x, axis=0)\n",
    "    images = np.vstack([x])\n",
    "    \n",
    "    pred = model.predict(images)\n",
    "    predict = model.predict(x)\n",
    "    \n",
    "    top5 = np.argsort(pred, axis=1)[:,-5:]\n",
    "    top5label = []\n",
    "    i = 4\n",
    "    while i > -1:\n",
    "        top5label.append(class_names[(top5[0][i])])\n",
    "        i = i-1\n",
    "    \n",
    "    actuallabel0 = image_path.split(\"/\")[-1]\n",
    "    actuallabel = actuallabel0.split(\".\")[-2]\n",
    "    if actuallabel == class_names[np.argmax(pred)]:\n",
    "        top1result = \"The Top1 prediction was successful\\n\"\n",
    "    else:\n",
    "        top1result = \"The Top1 prediction was unsuccessful\\n\"\n",
    "        \n",
    "    for i in top5label:\n",
    "        if i == actuallabel:\n",
    "            top5result = \"The Top5 prediction was successful\\n\"\n",
    "            break\n",
    "        else:\n",
    "            top5result = \"The Top5 prediction was unsuccessful\\n\"\n",
    "            \n",
    "    print(\"\\nActual: \"+ actuallabel +\"\\n\")\n",
    "    print(\"Top 1 predict: \"+class_names[np.argmax(pred)])\n",
    "    print(top1result)\n",
    "    print(\"Top 5 predict: \"+str(top5label))\n",
    "    print(top5result)\n",
    "    return"
   ]
  },
  {
   "cell_type": "code",
   "execution_count": null,
   "metadata": {
    "execution": {
     "iopub.execute_input": "2021-06-19T07:03:22.433265Z",
     "iopub.status.busy": "2021-06-19T07:03:22.432844Z",
     "iopub.status.idle": "2021-06-19T07:03:22.900953Z",
     "shell.execute_reply": "2021-06-19T07:03:22.900042Z",
     "shell.execute_reply.started": "2021-06-19T07:03:22.433224Z"
    }
   },
   "outputs": [],
   "source": [
    "test(\"./test/corn.jpg\", model)"
   ]
  },
  {
   "cell_type": "code",
   "execution_count": null,
   "metadata": {
    "execution": {
     "iopub.execute_input": "2021-06-19T07:07:37.363051Z",
     "iopub.status.busy": "2021-06-19T07:07:37.362722Z",
     "iopub.status.idle": "2021-06-19T07:07:37.859159Z",
     "shell.execute_reply": "2021-06-19T07:07:37.857954Z",
     "shell.execute_reply.started": "2021-06-19T07:07:37.363022Z"
    },
    "scrolled": true
   },
   "outputs": [],
   "source": [
    "test(\"./test/banana.jpg\", model)"
   ]
  },
  {
   "cell_type": "code",
   "execution_count": null,
   "metadata": {
    "execution": {
     "iopub.execute_input": "2021-06-19T07:03:23.150114Z",
     "iopub.status.busy": "2021-06-19T07:03:23.149603Z",
     "iopub.status.idle": "2021-06-19T07:03:23.354271Z",
     "shell.execute_reply": "2021-06-19T07:03:23.353425Z",
     "shell.execute_reply.started": "2021-06-19T07:03:23.150074Z"
    }
   },
   "outputs": [],
   "source": [
    "test(\"./test/apple.jpg\", model)"
   ]
  },
  {
   "cell_type": "code",
   "execution_count": null,
   "metadata": {
    "execution": {
     "iopub.execute_input": "2021-06-19T07:03:23.356016Z",
     "iopub.status.busy": "2021-06-19T07:03:23.355533Z",
     "iopub.status.idle": "2021-06-19T07:03:23.581976Z",
     "shell.execute_reply": "2021-06-19T07:03:23.581024Z",
     "shell.execute_reply.started": "2021-06-19T07:03:23.355978Z"
    }
   },
   "outputs": [],
   "source": [
    "test(\"./test/tomato.jpg\", model)"
   ]
  },
  {
   "cell_type": "code",
   "execution_count": null,
   "metadata": {},
   "outputs": [],
   "source": []
  },
  {
   "cell_type": "code",
   "execution_count": null,
   "metadata": {},
   "outputs": [],
   "source": []
  },
  {
   "cell_type": "code",
   "execution_count": null,
   "metadata": {},
   "outputs": [],
   "source": []
  },
  {
   "cell_type": "code",
   "execution_count": null,
   "metadata": {},
   "outputs": [],
   "source": []
  },
  {
   "cell_type": "code",
   "execution_count": null,
   "metadata": {},
   "outputs": [],
   "source": []
  }
 ],
 "metadata": {
  "interpreter": {
   "hash": "6330671cf013f9362c2cd1e55198b197db19b836250c5c20ff0742b9c9511c0e"
  },
  "kernelspec": {
   "display_name": "Python 3.8.13 ('d2l')",
   "language": "python",
   "name": "python3"
  },
  "language_info": {
   "codemirror_mode": {
    "name": "ipython",
    "version": 3
   },
   "file_extension": ".py",
   "mimetype": "text/x-python",
   "name": "python",
   "nbconvert_exporter": "python",
   "pygments_lexer": "ipython3",
   "version": "3.8.13"
  }
 },
 "nbformat": 4,
 "nbformat_minor": 4
}
